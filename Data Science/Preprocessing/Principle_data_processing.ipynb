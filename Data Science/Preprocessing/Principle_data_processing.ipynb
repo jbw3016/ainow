{
 "cells": [
  {
   "cell_type": "markdown",
   "metadata": {},
   "source": [
    "### Step to analyze DataSet _ Using Iris Data"
   ]
  },
  {
   "cell_type": "code",
   "execution_count": 1,
   "metadata": {},
   "outputs": [],
   "source": [
    "from sklearn.datasets import load_iris"
   ]
  },
  {
   "cell_type": "code",
   "execution_count": 2,
   "metadata": {},
   "outputs": [],
   "source": [
    "# load the data\n",
    "data = load_iris()"
   ]
  },
  {
   "cell_type": "code",
   "execution_count": 3,
   "metadata": {},
   "outputs": [
    {
     "data": {
      "text/plain": [
       "dict_keys(['data', 'target', 'frame', 'target_names', 'DESCR', 'feature_names', 'filename', 'data_module'])"
      ]
     },
     "execution_count": 3,
     "metadata": {},
     "output_type": "execute_result"
    }
   ],
   "source": [
    "# check the key\n",
    "data.keys()"
   ]
  },
  {
   "cell_type": "markdown",
   "metadata": {},
   "source": [
    "iris_data를 통해 해결해야할 문제 = Multi Classification\n",
    "* classification을 위한 모델 구축이 필요함"
   ]
  },
  {
   "cell_type": "code",
   "execution_count": 4,
   "metadata": {},
   "outputs": [
    {
     "name": "stdout",
     "output_type": "stream",
     "text": [
      "x_data_shape : (150, 4)\n",
      "y_data_shape : (150,)\n",
      "x_data_columns : ['sepal length (cm)', 'sepal width (cm)', 'petal length (cm)', 'petal width (cm)']\n",
      "x_data_columns.shape : 4\n",
      "y_data_columns : ['setosa' 'versicolor' 'virginica']\n",
      "y_data_columns.shape : 3\n"
     ]
    }
   ],
   "source": [
    "# find dataset's information\n",
    "\n",
    "# data length\n",
    "x_data = data.data\n",
    "x_data_shape = data.data.shape\n",
    "y_data = data.target\n",
    "y_data_shape = data.target.shape\n",
    "# features and labels names\n",
    "x_data_columns = data.feature_names\n",
    "y_data_columns = data.target_names\n",
    "filename = data.filename\n",
    "\n",
    "print(f\"x_data_shape : {x_data_shape}\")\n",
    "print(f\"y_data_shape : {y_data_shape}\")\n",
    "print(f\"x_data_columns : {x_data_columns}\")\n",
    "print(f\"x_data_columns.shape : {len(x_data_columns)}\")\n",
    "print(f\"y_data_columns : {y_data_columns}\")\n",
    "print(f\"y_data_columns.shape : {len(y_data_columns)}\")"
   ]
  },
  {
   "cell_type": "markdown",
   "metadata": {},
   "source": [
    "Iris Data의 DataFrame으로의 변환\n",
    "* 데이터의 탐색과 조작을 쉽게 하기 위함\n",
    "* 다양한 데이터 분석 기술을 통해 pre-processing 가능"
   ]
  },
  {
   "cell_type": "code",
   "execution_count": 5,
   "metadata": {},
   "outputs": [
    {
     "data": {
      "text/html": [
       "<div>\n",
       "<style scoped>\n",
       "    .dataframe tbody tr th:only-of-type {\n",
       "        vertical-align: middle;\n",
       "    }\n",
       "\n",
       "    .dataframe tbody tr th {\n",
       "        vertical-align: top;\n",
       "    }\n",
       "\n",
       "    .dataframe thead th {\n",
       "        text-align: right;\n",
       "    }\n",
       "</style>\n",
       "<table border=\"1\" class=\"dataframe\">\n",
       "  <thead>\n",
       "    <tr style=\"text-align: right;\">\n",
       "      <th></th>\n",
       "      <th>sepal length (cm)</th>\n",
       "      <th>sepal width (cm)</th>\n",
       "      <th>petal length (cm)</th>\n",
       "      <th>petal width (cm)</th>\n",
       "      <th>label</th>\n",
       "    </tr>\n",
       "  </thead>\n",
       "  <tbody>\n",
       "    <tr>\n",
       "      <th>90</th>\n",
       "      <td>5.5</td>\n",
       "      <td>2.6</td>\n",
       "      <td>4.4</td>\n",
       "      <td>1.2</td>\n",
       "      <td>1</td>\n",
       "    </tr>\n",
       "    <tr>\n",
       "      <th>19</th>\n",
       "      <td>5.1</td>\n",
       "      <td>3.8</td>\n",
       "      <td>1.5</td>\n",
       "      <td>0.3</td>\n",
       "      <td>0</td>\n",
       "    </tr>\n",
       "    <tr>\n",
       "      <th>108</th>\n",
       "      <td>6.7</td>\n",
       "      <td>2.5</td>\n",
       "      <td>5.8</td>\n",
       "      <td>1.8</td>\n",
       "      <td>2</td>\n",
       "    </tr>\n",
       "    <tr>\n",
       "      <th>89</th>\n",
       "      <td>5.5</td>\n",
       "      <td>2.5</td>\n",
       "      <td>4.0</td>\n",
       "      <td>1.3</td>\n",
       "      <td>1</td>\n",
       "    </tr>\n",
       "    <tr>\n",
       "      <th>74</th>\n",
       "      <td>6.4</td>\n",
       "      <td>2.9</td>\n",
       "      <td>4.3</td>\n",
       "      <td>1.3</td>\n",
       "      <td>1</td>\n",
       "    </tr>\n",
       "  </tbody>\n",
       "</table>\n",
       "</div>"
      ],
      "text/plain": [
       "     sepal length (cm)  sepal width (cm)  petal length (cm)  petal width (cm)  \\\n",
       "90                 5.5               2.6                4.4               1.2   \n",
       "19                 5.1               3.8                1.5               0.3   \n",
       "108                6.7               2.5                5.8               1.8   \n",
       "89                 5.5               2.5                4.0               1.3   \n",
       "74                 6.4               2.9                4.3               1.3   \n",
       "\n",
       "     label  \n",
       "90       1  \n",
       "19       0  \n",
       "108      2  \n",
       "89       1  \n",
       "74       1  "
      ]
     },
     "execution_count": 5,
     "metadata": {},
     "output_type": "execute_result"
    }
   ],
   "source": [
    "import pandas as pd\n",
    "\n",
    "x_iris_data = pd.DataFrame(x_data, columns=x_data_columns)\n",
    "y_iris_data = pd.DataFrame(y_data, columns=['label'])\n",
    "iris_data = pd.concat([x_iris_data, y_iris_data], axis=1)\n",
    "\n",
    "iris_data.sample(5)"
   ]
  },
  {
   "cell_type": "code",
   "execution_count": 6,
   "metadata": {},
   "outputs": [
    {
     "name": "stdout",
     "output_type": "stream",
     "text": [
      "<class 'pandas.core.frame.DataFrame'>\n",
      "RangeIndex: 150 entries, 0 to 149\n",
      "Data columns (total 5 columns):\n",
      " #   Column             Non-Null Count  Dtype  \n",
      "---  ------             --------------  -----  \n",
      " 0   sepal length (cm)  150 non-null    float64\n",
      " 1   sepal width (cm)   150 non-null    float64\n",
      " 2   petal length (cm)  150 non-null    float64\n",
      " 3   petal width (cm)   150 non-null    float64\n",
      " 4   label              150 non-null    int32  \n",
      "dtypes: float64(4), int32(1)\n",
      "memory usage: 5.4 KB\n"
     ]
    }
   ],
   "source": [
    "iris_data.info()"
   ]
  },
  {
   "cell_type": "code",
   "execution_count": 7,
   "metadata": {},
   "outputs": [
    {
     "data": {
      "text/plain": [
       "label\n",
       "0    50\n",
       "1    50\n",
       "2    50\n",
       "Name: count, dtype: int64"
      ]
     },
     "execution_count": 7,
     "metadata": {},
     "output_type": "execute_result"
    }
   ],
   "source": [
    "iris_data.label.value_counts()"
   ]
  },
  {
   "cell_type": "code",
   "execution_count": 8,
   "metadata": {},
   "outputs": [
    {
     "data": {
      "text/plain": [
       "sepal length (cm)    35\n",
       "sepal width (cm)     23\n",
       "petal length (cm)    43\n",
       "petal width (cm)     22\n",
       "label                 3\n",
       "dtype: int64"
      ]
     },
     "execution_count": 8,
     "metadata": {},
     "output_type": "execute_result"
    }
   ],
   "source": [
    "iris_data.nunique()\n",
    "\n",
    "# feature는 categorical data가 아닌 numerical data\n",
    "# label은 categorical data"
   ]
  },
  {
   "cell_type": "markdown",
   "metadata": {},
   "source": [
    "\n",
    "### For Create Model, Preprocess the Data\n",
    "\n",
    "1) Feature Analysis\n",
    "* Categorical Feature와 Numerical Feature 확인 : Encoding 작업을 위해 분리\n",
    "* 분리한 Categorical Feature에 대한 Encoding : One-Hot-Encoding _vs_ Label_Encoding\n",
    "* 만약 Label_Encoding을 할 경우, scaling 필요\n",
    "* Numerical Feature에 대한 scaling : 동일한 표준편차 구성을 위함\n",
    "* Concatenate Categorical and Numerical Feature\n",
    "\n",
    "2) Label Analysis\n",
    "* Encoding the Label : One-Hot-Encoding _vs_ Label_Encoding\n",
    "* 연속적인 변화가 중요한 Label일 경우 Label_Encoding을 사용하나, 일반적으로 One_Hot_Encoding 사용"
   ]
  },
  {
   "cell_type": "code",
   "execution_count": 9,
   "metadata": {},
   "outputs": [
    {
     "data": {
      "text/html": [
       "<div>\n",
       "<style scoped>\n",
       "    .dataframe tbody tr th:only-of-type {\n",
       "        vertical-align: middle;\n",
       "    }\n",
       "\n",
       "    .dataframe tbody tr th {\n",
       "        vertical-align: top;\n",
       "    }\n",
       "\n",
       "    .dataframe thead th {\n",
       "        text-align: right;\n",
       "    }\n",
       "</style>\n",
       "<table border=\"1\" class=\"dataframe\">\n",
       "  <thead>\n",
       "    <tr style=\"text-align: right;\">\n",
       "      <th></th>\n",
       "      <th>sepal length (cm)</th>\n",
       "      <th>sepal width (cm)</th>\n",
       "      <th>petal length (cm)</th>\n",
       "      <th>petal width (cm)</th>\n",
       "      <th>label</th>\n",
       "    </tr>\n",
       "  </thead>\n",
       "  <tbody>\n",
       "    <tr>\n",
       "      <th>count</th>\n",
       "      <td>150.000000</td>\n",
       "      <td>150.000000</td>\n",
       "      <td>150.000000</td>\n",
       "      <td>150.000000</td>\n",
       "      <td>150.000000</td>\n",
       "    </tr>\n",
       "    <tr>\n",
       "      <th>mean</th>\n",
       "      <td>5.843333</td>\n",
       "      <td>3.057333</td>\n",
       "      <td>3.758000</td>\n",
       "      <td>1.199333</td>\n",
       "      <td>1.000000</td>\n",
       "    </tr>\n",
       "    <tr>\n",
       "      <th>std</th>\n",
       "      <td>0.828066</td>\n",
       "      <td>0.435866</td>\n",
       "      <td>1.765298</td>\n",
       "      <td>0.762238</td>\n",
       "      <td>0.819232</td>\n",
       "    </tr>\n",
       "    <tr>\n",
       "      <th>min</th>\n",
       "      <td>4.300000</td>\n",
       "      <td>2.000000</td>\n",
       "      <td>1.000000</td>\n",
       "      <td>0.100000</td>\n",
       "      <td>0.000000</td>\n",
       "    </tr>\n",
       "    <tr>\n",
       "      <th>25%</th>\n",
       "      <td>5.100000</td>\n",
       "      <td>2.800000</td>\n",
       "      <td>1.600000</td>\n",
       "      <td>0.300000</td>\n",
       "      <td>0.000000</td>\n",
       "    </tr>\n",
       "    <tr>\n",
       "      <th>50%</th>\n",
       "      <td>5.800000</td>\n",
       "      <td>3.000000</td>\n",
       "      <td>4.350000</td>\n",
       "      <td>1.300000</td>\n",
       "      <td>1.000000</td>\n",
       "    </tr>\n",
       "    <tr>\n",
       "      <th>75%</th>\n",
       "      <td>6.400000</td>\n",
       "      <td>3.300000</td>\n",
       "      <td>5.100000</td>\n",
       "      <td>1.800000</td>\n",
       "      <td>2.000000</td>\n",
       "    </tr>\n",
       "    <tr>\n",
       "      <th>max</th>\n",
       "      <td>7.900000</td>\n",
       "      <td>4.400000</td>\n",
       "      <td>6.900000</td>\n",
       "      <td>2.500000</td>\n",
       "      <td>2.000000</td>\n",
       "    </tr>\n",
       "  </tbody>\n",
       "</table>\n",
       "</div>"
      ],
      "text/plain": [
       "       sepal length (cm)  sepal width (cm)  petal length (cm)  \\\n",
       "count         150.000000        150.000000         150.000000   \n",
       "mean            5.843333          3.057333           3.758000   \n",
       "std             0.828066          0.435866           1.765298   \n",
       "min             4.300000          2.000000           1.000000   \n",
       "25%             5.100000          2.800000           1.600000   \n",
       "50%             5.800000          3.000000           4.350000   \n",
       "75%             6.400000          3.300000           5.100000   \n",
       "max             7.900000          4.400000           6.900000   \n",
       "\n",
       "       petal width (cm)       label  \n",
       "count        150.000000  150.000000  \n",
       "mean           1.199333    1.000000  \n",
       "std            0.762238    0.819232  \n",
       "min            0.100000    0.000000  \n",
       "25%            0.300000    0.000000  \n",
       "50%            1.300000    1.000000  \n",
       "75%            1.800000    2.000000  \n",
       "max            2.500000    2.000000  "
      ]
     },
     "execution_count": 9,
     "metadata": {},
     "output_type": "execute_result"
    }
   ],
   "source": [
    "# Numerical Feature에 대한 Normalize 진행 : [-1, 1] 사이로 변환\n",
    "# 이를 위해 각 feature 별 데이터 정보 확인\n",
    "iris_data.describe()"
   ]
  },
  {
   "cell_type": "code",
   "execution_count": 12,
   "metadata": {},
   "outputs": [
    {
     "name": "stdout",
     "output_type": "stream",
     "text": [
      "     sepal length (cm)  sepal width (cm)  petal length (cm)  petal width (cm)  \\\n",
      "0            -0.555556          0.250000          -0.864407         -0.916667   \n",
      "1            -0.666667         -0.166667          -0.864407         -0.916667   \n",
      "2            -0.777778          0.000000          -0.898305         -0.916667   \n",
      "3            -0.833333         -0.083333          -0.830508         -0.916667   \n",
      "4            -0.611111          0.333333          -0.864407         -0.916667   \n",
      "..                 ...               ...                ...               ...   \n",
      "145           0.333333         -0.166667           0.423729          0.833333   \n",
      "146           0.111111         -0.583333           0.355932          0.500000   \n",
      "147           0.222222         -0.166667           0.423729          0.583333   \n",
      "148           0.055556          0.166667           0.491525          0.833333   \n",
      "149          -0.111111         -0.166667           0.389831          0.416667   \n",
      "\n",
      "     setosa  versicolor  virginica  \n",
      "0         1           0          0  \n",
      "1         1           0          0  \n",
      "2         1           0          0  \n",
      "3         1           0          0  \n",
      "4         1           0          0  \n",
      "..      ...         ...        ...  \n",
      "145       0           0          1  \n",
      "146       0           0          1  \n",
      "147       0           0          1  \n",
      "148       0           0          1  \n",
      "149       0           0          1  \n",
      "\n",
      "[150 rows x 7 columns]\n",
      "     sepal length (cm)  sepal width (cm)  petal length (cm)  petal width (cm)\n",
      "0            -0.555556          0.250000          -0.864407         -0.916667\n",
      "1            -0.666667         -0.166667          -0.864407         -0.916667\n",
      "2            -0.777778          0.000000          -0.898305         -0.916667\n",
      "3            -0.833333         -0.083333          -0.830508         -0.916667\n",
      "4            -0.611111          0.333333          -0.864407         -0.916667\n",
      "..                 ...               ...                ...               ...\n",
      "145           0.333333         -0.166667           0.423729          0.833333\n",
      "146           0.111111         -0.583333           0.355932          0.500000\n",
      "147           0.222222         -0.166667           0.423729          0.583333\n",
      "148           0.055556          0.166667           0.491525          0.833333\n",
      "149          -0.111111         -0.166667           0.389831          0.416667\n",
      "\n",
      "[150 rows x 4 columns]\n",
      "     setosa  versicolor  virginica\n",
      "0         1           0          0\n",
      "1         1           0          0\n",
      "2         1           0          0\n",
      "3         1           0          0\n",
      "4         1           0          0\n",
      "..      ...         ...        ...\n",
      "145       0           0          1\n",
      "146       0           0          1\n",
      "147       0           0          1\n",
      "148       0           0          1\n",
      "149       0           0          1\n",
      "\n",
      "[150 rows x 3 columns]\n"
     ]
    }
   ],
   "source": [
    "# Feature data에 대한 scaling 진행 - minmax scaling\n",
    "from sklearn.preprocessing import MinMaxScaler, LabelBinarizer\n",
    "\n",
    "# x_data scaling\n",
    "scaler = MinMaxScaler(feature_range=(-1, 1))\n",
    "x_iris_data_scaled = pd.DataFrame(scaler.fit_transform(x_iris_data), columns=x_data_columns)\n",
    "\n",
    "# y_data scaling - onehotencoding\n",
    "le = LabelBinarizer()\n",
    "y_iris_data_scaled = pd.DataFrame(le.fit_transform(y_iris_data), columns=y_data_columns)\n",
    "\n",
    "# iris_data scaling\n",
    "iris_data_scaled = pd.concat([x_iris_data_scaled, y_iris_data_scaled], axis=1)\n",
    "\n",
    "print(iris_data_scaled)\n",
    "print(x_iris_data_scaled)\n",
    "print(y_iris_data_scaled)"
   ]
  },
  {
   "cell_type": "markdown",
   "metadata": {},
   "source": [
    "Data Training"
   ]
  },
  {
   "cell_type": "code",
   "execution_count": 13,
   "metadata": {},
   "outputs": [
    {
     "name": "stdout",
     "output_type": "stream",
     "text": [
      "x_train.shape : (120, 4)\n",
      "y_train.shape : (120, 3)\n",
      "x_test.shape : (30, 4)\n",
      "y_test.shape : (30, 3)\n"
     ]
    }
   ],
   "source": [
    "from sklearn.model_selection import train_test_split\n",
    "\n",
    "x_train, x_test, y_train, y_test = train_test_split(\n",
    "    x_iris_data_scaled, y_iris_data_scaled, test_size=0.2, random_state=42)\n",
    "\n",
    "print(f\"x_train.shape : {x_train.shape}\")\n",
    "print(f\"y_train.shape : {y_train.shape}\")\n",
    "print(f\"x_test.shape : {x_test.shape}\")\n",
    "print(f\"y_test.shape : {y_test.shape}\")"
   ]
  },
  {
   "cell_type": "code",
   "execution_count": null,
   "metadata": {},
   "outputs": [],
   "source": []
  },
  {
   "cell_type": "code",
   "execution_count": null,
   "metadata": {},
   "outputs": [],
   "source": []
  },
  {
   "cell_type": "code",
   "execution_count": null,
   "metadata": {},
   "outputs": [],
   "source": []
  },
  {
   "cell_type": "code",
   "execution_count": null,
   "metadata": {},
   "outputs": [],
   "source": []
  },
  {
   "cell_type": "code",
   "execution_count": null,
   "metadata": {},
   "outputs": [],
   "source": []
  },
  {
   "cell_type": "code",
   "execution_count": null,
   "metadata": {},
   "outputs": [],
   "source": []
  },
  {
   "cell_type": "code",
   "execution_count": null,
   "metadata": {},
   "outputs": [],
   "source": []
  },
  {
   "cell_type": "code",
   "execution_count": null,
   "metadata": {},
   "outputs": [],
   "source": []
  },
  {
   "cell_type": "code",
   "execution_count": null,
   "metadata": {},
   "outputs": [],
   "source": []
  }
 ],
 "metadata": {
  "kernelspec": {
   "display_name": "Python 3",
   "language": "python",
   "name": "python3"
  },
  "language_info": {
   "codemirror_mode": {
    "name": "ipython",
    "version": 3
   },
   "file_extension": ".py",
   "mimetype": "text/x-python",
   "name": "python",
   "nbconvert_exporter": "python",
   "pygments_lexer": "ipython3",
   "version": "3.11.4"
  }
 },
 "nbformat": 4,
 "nbformat_minor": 2
}
